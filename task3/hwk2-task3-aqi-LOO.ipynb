{
 "cells": [
  {
   "cell_type": "code",
   "execution_count": 1,
   "metadata": {
    "deletable": false,
    "editable": false
   },
   "outputs": [],
   "source": [
    "# Initialize Otter\n",
    "import otter\n",
    "grader = otter.Notebook(\"hwk2-task3-aqi-LOO.ipynb\")"
   ]
  },
  {
   "cell_type": "markdown",
   "metadata": {},
   "source": [
    "# Task 3: Visualizing AQI during the 2017 Thomas Fire in Santa Barbara County\n",
    "\n",
    "This task covers topics on the lesson on [time series](https://meds-eds-220.github.io/MEDS-eds-220-course/book/chapters/lesson-7-time-series.html). \n",
    "\n",
    "## Instructions \n",
    "\n",
    "- First, update the following cell to have a link to *your* Homework 2 GitHub repository:\n",
    "\n",
    "**MY LINK:**\n",
    "https://github.com/zachyyy700/eds220-hwk2\n",
    "\n",
    "- Review the [complete rubric for this task](https://docs.google.com/document/d/131OnUDOLpOl94SlaMU9nGqT998ABrjFS/edit?usp=sharing&ouid=111507336322611936333&rtpof=true&sd=true) before starting.\n",
    "\n",
    "- **Make at least 5 commits. Generally, commit every time you finish a major step.** We'll check your repository and view the commit history.\n",
    "\n",
    "- **Add comments for all your code.** Err on the side of commenting too much for now. Comments should follow best practices.\n",
    "\n",
    "- **Do not update the top cell with the `otter` import**, this is used internally for grading.\n",
    "\n",
    "\n",
    "## About the data\n",
    "\n",
    "In this task you will use [Air Quality Index (AQI)](https://www.airnow.gov/aqi/aqi-basics/) data from the [US Environmental Protection Agency](https://www.epa.gov) to visualize the impact on the AQI of the 2017 [Thomas Fire](https://en.wikipedia.org/wiki/Thomas_Fire) in Santa Barbara County. "
   ]
  },
  {
   "cell_type": "markdown",
   "metadata": {},
   "source": [
    "## FINAL CODE\n",
    "\n",
    "You will use the next code cell to complete the last exercise in the task. Leave it blank for now. "
   ]
  },
  {
   "cell_type": "code",
   "execution_count": null,
   "metadata": {
    "tags": []
   },
   "outputs": [],
   "source": []
  },
  {
   "cell_type": "markdown",
   "metadata": {},
   "source": [
    "## 1\n",
    "\n",
    "a. Read the [Air Quality Index (AQI) Basics](https://www.airnow.gov/aqi/aqi-basics/) from the AirNow.gov portal."
   ]
  },
  {
   "cell_type": "markdown",
   "metadata": {},
   "source": [
    "b. Go to [EPA's website on Air Quality Data Collected at Outdoor Monitors Across the US](https://www.epa.gov/outdoor-air-quality-data). "
   ]
  },
  {
   "cell_type": "markdown",
   "metadata": {},
   "source": [
    "c. Under \"Download Data\", click on \"Pre-generated Data Files\"."
   ]
  },
  {
   "cell_type": "markdown",
   "metadata": {},
   "source": [
    "d. Read the \"About the data\" section."
   ]
  },
  {
   "cell_type": "markdown",
   "metadata": {},
   "source": [
    "## 2\n",
    "a. Back in the \"Pre-generated Data Files\" site, click on \"Tables of Daily AQI\".\n",
    "\n",
    "b. Copy the URL to the 2017 Daily AQI **by County** ZIP file `daily_aqi_by_county_2017.zip`\n",
    "\n",
    "Notice we'll be reading the data directly from its ZIP file link. This ZIP file contains a single CSV that has been compressed to save space. "
   ]
  },
  {
   "cell_type": "markdown",
   "metadata": {
    "deletable": false,
    "editable": false
   },
   "source": [
    "<!-- BEGIN QUESTION -->\n",
    "\n",
    "c. In the next code cell read in the data from the URL using the [`pd.read_csv`](https://pandas.pydata.org/docs/reference/api/pandas.read_csv.html) function with the `compression='zip'` parameter added and store it as `aqi_17`. \n",
    "\n",
    "d. In the same cell, read in the data for the 2018 Daily AQI by County ZIP file and store it as `aqi_18`."
   ]
  },
  {
   "cell_type": "code",
   "execution_count": 2,
   "metadata": {
    "tags": []
   },
   "outputs": [],
   "source": [
    "# Import pandas\n",
    "import pandas as pd\n",
    "\n",
    "# Read in data\n",
    "aqi_17 = pd.read_csv('https://aqs.epa.gov/aqsweb/airdata/daily_aqi_by_county_2017.zip', compression='zip')\n",
    "aqi_18 = pd.read_csv('https://aqs.epa.gov/aqsweb/airdata/daily_aqi_by_county_2018.zip', compression='zip')"
   ]
  },
  {
   "cell_type": "markdown",
   "metadata": {
    "deletable": false,
    "editable": false
   },
   "source": [
    "<!-- END QUESTION -->\n",
    "\n",
    "## 3\n",
    "a. and b. Use the next two code cells to look at the head of both data frames. Store your results in `aqi_17_head` and `aqi_18_head`. "
   ]
  },
  {
   "cell_type": "code",
   "execution_count": 3,
   "metadata": {
    "tags": []
   },
   "outputs": [],
   "source": [
    "# a.\n",
    "aqi_17_head = aqi_17.head()"
   ]
  },
  {
   "cell_type": "code",
   "execution_count": 4,
   "metadata": {
    "scrolled": true,
    "tags": []
   },
   "outputs": [],
   "source": [
    "# b.\n",
    "aqi_18_head = aqi_18.head()"
   ]
  },
  {
   "cell_type": "code",
   "execution_count": 5,
   "metadata": {
    "deletable": false,
    "editable": false
   },
   "outputs": [
    {
     "data": {
      "text/html": [
       "<p><strong><pre style='display: inline;'>q3_a</pre></strong> passed! ✨</p>"
      ],
      "text/plain": [
       "q3_a results: All test cases passed!"
      ]
     },
     "execution_count": 5,
     "metadata": {},
     "output_type": "execute_result"
    }
   ],
   "source": [
    "grader.check(\"q3_a\")"
   ]
  },
  {
   "cell_type": "markdown",
   "metadata": {
    "deletable": false,
    "editable": false,
    "jp-MarkdownHeadingCollapsed": true
   },
   "source": [
    "<!-- BEGIN QUESTION -->\n",
    "\n",
    "c. Use this code cell to make some other preliminary data exploration of your choosing."
   ]
  },
  {
   "cell_type": "code",
   "execution_count": 6,
   "metadata": {
    "deletable": false,
    "editable": false
   },
   "outputs": [
    {
     "data": {
      "application/vnd.microsoft.datawrangler.viewer.v0+json": {
       "columns": [
        {
         "name": "index",
         "rawType": "object",
         "type": "string"
        },
        {
         "name": "State Code",
         "rawType": "float64",
         "type": "float"
        },
        {
         "name": "County Code",
         "rawType": "float64",
         "type": "float"
        },
        {
         "name": "AQI",
         "rawType": "float64",
         "type": "float"
        },
        {
         "name": "Number of Sites Reporting",
         "rawType": "float64",
         "type": "float"
        }
       ],
       "ref": "14784c19-07cb-45ca-874e-e66ac69b74bd",
       "rows": [
        [
         "count",
         "326801.0",
         "326801.0",
         "326801.0",
         "326801.0"
        ],
        [
         "mean",
         "30.11648373168993",
         "79.49214659685863",
         "43.34260911074323",
         "2.0244797292541943"
        ],
        [
         "std",
         "16.136776042501676",
         "89.53795937589275",
         "23.339487159441074",
         "2.460303044646998"
        ],
        [
         "min",
         "1.0",
         "1.0",
         "0.0",
         "1.0"
        ],
        [
         "25%",
         "17.0",
         "23.0",
         "32.0",
         "1.0"
        ],
        [
         "50%",
         "30.0",
         "59.0",
         "42.0",
         "1.0"
        ],
        [
         "75%",
         "42.0",
         "105.0",
         "52.0",
         "2.0"
        ],
        [
         "max",
         "80.0",
         "840.0",
         "3767.0",
         "36.0"
        ]
       ],
       "shape": {
        "columns": 4,
        "rows": 8
       }
      },
      "text/html": [
       "<div>\n",
       "<style scoped>\n",
       "    .dataframe tbody tr th:only-of-type {\n",
       "        vertical-align: middle;\n",
       "    }\n",
       "\n",
       "    .dataframe tbody tr th {\n",
       "        vertical-align: top;\n",
       "    }\n",
       "\n",
       "    .dataframe thead th {\n",
       "        text-align: right;\n",
       "    }\n",
       "</style>\n",
       "<table border=\"1\" class=\"dataframe\">\n",
       "  <thead>\n",
       "    <tr style=\"text-align: right;\">\n",
       "      <th></th>\n",
       "      <th>State Code</th>\n",
       "      <th>County Code</th>\n",
       "      <th>AQI</th>\n",
       "      <th>Number of Sites Reporting</th>\n",
       "    </tr>\n",
       "  </thead>\n",
       "  <tbody>\n",
       "    <tr>\n",
       "      <th>count</th>\n",
       "      <td>326801.000000</td>\n",
       "      <td>326801.000000</td>\n",
       "      <td>326801.000000</td>\n",
       "      <td>326801.000000</td>\n",
       "    </tr>\n",
       "    <tr>\n",
       "      <th>mean</th>\n",
       "      <td>30.116484</td>\n",
       "      <td>79.492147</td>\n",
       "      <td>43.342609</td>\n",
       "      <td>2.024480</td>\n",
       "    </tr>\n",
       "    <tr>\n",
       "      <th>std</th>\n",
       "      <td>16.136776</td>\n",
       "      <td>89.537959</td>\n",
       "      <td>23.339487</td>\n",
       "      <td>2.460303</td>\n",
       "    </tr>\n",
       "    <tr>\n",
       "      <th>min</th>\n",
       "      <td>1.000000</td>\n",
       "      <td>1.000000</td>\n",
       "      <td>0.000000</td>\n",
       "      <td>1.000000</td>\n",
       "    </tr>\n",
       "    <tr>\n",
       "      <th>25%</th>\n",
       "      <td>17.000000</td>\n",
       "      <td>23.000000</td>\n",
       "      <td>32.000000</td>\n",
       "      <td>1.000000</td>\n",
       "    </tr>\n",
       "    <tr>\n",
       "      <th>50%</th>\n",
       "      <td>30.000000</td>\n",
       "      <td>59.000000</td>\n",
       "      <td>42.000000</td>\n",
       "      <td>1.000000</td>\n",
       "    </tr>\n",
       "    <tr>\n",
       "      <th>75%</th>\n",
       "      <td>42.000000</td>\n",
       "      <td>105.000000</td>\n",
       "      <td>52.000000</td>\n",
       "      <td>2.000000</td>\n",
       "    </tr>\n",
       "    <tr>\n",
       "      <th>max</th>\n",
       "      <td>80.000000</td>\n",
       "      <td>840.000000</td>\n",
       "      <td>3767.000000</td>\n",
       "      <td>36.000000</td>\n",
       "    </tr>\n",
       "  </tbody>\n",
       "</table>\n",
       "</div>"
      ],
      "text/plain": [
       "          State Code    County Code            AQI  Number of Sites Reporting\n",
       "count  326801.000000  326801.000000  326801.000000              326801.000000\n",
       "mean       30.116484      79.492147      43.342609                   2.024480\n",
       "std        16.136776      89.537959      23.339487                   2.460303\n",
       "min         1.000000       1.000000       0.000000                   1.000000\n",
       "25%        17.000000      23.000000      32.000000                   1.000000\n",
       "50%        30.000000      59.000000      42.000000                   1.000000\n",
       "75%        42.000000     105.000000      52.000000                   2.000000\n",
       "max        80.000000     840.000000    3767.000000                  36.000000"
      ]
     },
     "execution_count": 6,
     "metadata": {},
     "output_type": "execute_result"
    }
   ],
   "source": [
    "# Get initial statistics for numerical columns in 2017 data\n",
    "aqi_17.describe()"
   ]
  },
  {
   "cell_type": "code",
   "execution_count": 7,
   "metadata": {},
   "outputs": [
    {
     "data": {
      "application/vnd.microsoft.datawrangler.viewer.v0+json": {
       "columns": [
        {
         "name": "index",
         "rawType": "object",
         "type": "string"
        },
        {
         "name": "State Code",
         "rawType": "float64",
         "type": "float"
        },
        {
         "name": "County Code",
         "rawType": "float64",
         "type": "float"
        },
        {
         "name": "AQI",
         "rawType": "float64",
         "type": "float"
        },
        {
         "name": "Number of Sites Reporting",
         "rawType": "float64",
         "type": "float"
        }
       ],
       "ref": "b6646786-b4d1-49a2-abab-07c27847ea60",
       "rows": [
        [
         "count",
         "327541.0",
         "327541.0",
         "327541.0",
         "327541.0"
        ],
        [
         "mean",
         "30.045557655377493",
         "79.30451149627069",
         "43.12642081449345",
         "2.0188251241829267"
        ],
        [
         "std",
         "16.175659039947817",
         "88.40381862184246",
         "20.7606341377299",
         "2.462493844993632"
        ],
        [
         "min",
         "1.0",
         "1.0",
         "0.0",
         "1.0"
        ],
        [
         "25%",
         "17.0",
         "23.0",
         "31.0",
         "1.0"
        ],
        [
         "50%",
         "30.0",
         "59.0",
         "41.0",
         "1.0"
        ],
        [
         "75%",
         "42.0",
         "105.0",
         "52.0",
         "2.0"
        ],
        [
         "max",
         "80.0",
         "840.0",
         "1051.0",
         "36.0"
        ]
       ],
       "shape": {
        "columns": 4,
        "rows": 8
       }
      },
      "text/html": [
       "<div>\n",
       "<style scoped>\n",
       "    .dataframe tbody tr th:only-of-type {\n",
       "        vertical-align: middle;\n",
       "    }\n",
       "\n",
       "    .dataframe tbody tr th {\n",
       "        vertical-align: top;\n",
       "    }\n",
       "\n",
       "    .dataframe thead th {\n",
       "        text-align: right;\n",
       "    }\n",
       "</style>\n",
       "<table border=\"1\" class=\"dataframe\">\n",
       "  <thead>\n",
       "    <tr style=\"text-align: right;\">\n",
       "      <th></th>\n",
       "      <th>State Code</th>\n",
       "      <th>County Code</th>\n",
       "      <th>AQI</th>\n",
       "      <th>Number of Sites Reporting</th>\n",
       "    </tr>\n",
       "  </thead>\n",
       "  <tbody>\n",
       "    <tr>\n",
       "      <th>count</th>\n",
       "      <td>327541.000000</td>\n",
       "      <td>327541.000000</td>\n",
       "      <td>327541.000000</td>\n",
       "      <td>327541.000000</td>\n",
       "    </tr>\n",
       "    <tr>\n",
       "      <th>mean</th>\n",
       "      <td>30.045558</td>\n",
       "      <td>79.304511</td>\n",
       "      <td>43.126421</td>\n",
       "      <td>2.018825</td>\n",
       "    </tr>\n",
       "    <tr>\n",
       "      <th>std</th>\n",
       "      <td>16.175659</td>\n",
       "      <td>88.403819</td>\n",
       "      <td>20.760634</td>\n",
       "      <td>2.462494</td>\n",
       "    </tr>\n",
       "    <tr>\n",
       "      <th>min</th>\n",
       "      <td>1.000000</td>\n",
       "      <td>1.000000</td>\n",
       "      <td>0.000000</td>\n",
       "      <td>1.000000</td>\n",
       "    </tr>\n",
       "    <tr>\n",
       "      <th>25%</th>\n",
       "      <td>17.000000</td>\n",
       "      <td>23.000000</td>\n",
       "      <td>31.000000</td>\n",
       "      <td>1.000000</td>\n",
       "    </tr>\n",
       "    <tr>\n",
       "      <th>50%</th>\n",
       "      <td>30.000000</td>\n",
       "      <td>59.000000</td>\n",
       "      <td>41.000000</td>\n",
       "      <td>1.000000</td>\n",
       "    </tr>\n",
       "    <tr>\n",
       "      <th>75%</th>\n",
       "      <td>42.000000</td>\n",
       "      <td>105.000000</td>\n",
       "      <td>52.000000</td>\n",
       "      <td>2.000000</td>\n",
       "    </tr>\n",
       "    <tr>\n",
       "      <th>max</th>\n",
       "      <td>80.000000</td>\n",
       "      <td>840.000000</td>\n",
       "      <td>1051.000000</td>\n",
       "      <td>36.000000</td>\n",
       "    </tr>\n",
       "  </tbody>\n",
       "</table>\n",
       "</div>"
      ],
      "text/plain": [
       "          State Code    County Code            AQI  Number of Sites Reporting\n",
       "count  327541.000000  327541.000000  327541.000000              327541.000000\n",
       "mean       30.045558      79.304511      43.126421                   2.018825\n",
       "std        16.175659      88.403819      20.760634                   2.462494\n",
       "min         1.000000       1.000000       0.000000                   1.000000\n",
       "25%        17.000000      23.000000      31.000000                   1.000000\n",
       "50%        30.000000      59.000000      41.000000                   1.000000\n",
       "75%        42.000000     105.000000      52.000000                   2.000000\n",
       "max        80.000000     840.000000    1051.000000                  36.000000"
      ]
     },
     "execution_count": 7,
     "metadata": {},
     "output_type": "execute_result"
    }
   ],
   "source": [
    "# Get initial statistics for numerical columns in 2018 data\n",
    "aqi_18.describe()"
   ]
  },
  {
   "cell_type": "markdown",
   "metadata": {
    "deletable": false,
    "editable": false
   },
   "source": [
    "<!-- END QUESTION -->\n",
    "\n",
    "<!-- BEGIN QUESTION -->\n",
    "\n",
    "d. Use this markdown cell to explain why you decided to do the exploration in c. and what information you obtained from doing it."
   ]
  },
  {
   "cell_type": "markdown",
   "metadata": {
    "deletable": false,
    "editable": false
   },
   "source": [
    "- Knowing that AQI measurements are a number, I thought to use `.describe()` to get numerical information like mean, minimum, and maximum. When comparing these two years, the AQI mean and minimums were quite similar but the maximum AQI in 2017 was more than three times higher than the max AQI in 2018, likely due to the wildfires that occurred."
   ]
  },
  {
   "cell_type": "markdown",
   "metadata": {
    "deletable": false,
    "editable": false
   },
   "source": [
    "<!-- END QUESTION -->\n",
    "\n",
    "## 4\n",
    "We currently have two separate data frames. For this exercise we will need to \"glue\" them one on top of the other. The `pandas` function `pd.concat()` can achieve this. \n",
    "\n",
    "Pass `[aqi_17, aqi_18]` as the input of `pd.concat()` and store the output as  `aqi`.  \n",
    "In the next line run `aqi`.\n",
    "\n",
    "NOTE: When we concatenate data frames like this, without any extra parameters for `pd.concat()` the indices for the two dataframes are just \"glued together\", the index of the resulting dataframe is not updated to start from 0. Notice the mismatch between the index of `aqi` and the number of rows i the complete data frame.\n"
   ]
  },
  {
   "cell_type": "code",
   "execution_count": 8,
   "metadata": {
    "tags": []
   },
   "outputs": [
    {
     "data": {
      "application/vnd.microsoft.datawrangler.viewer.v0+json": {
       "columns": [
        {
         "name": "index",
         "rawType": "int64",
         "type": "integer"
        },
        {
         "name": "State Name",
         "rawType": "object",
         "type": "string"
        },
        {
         "name": "county Name",
         "rawType": "object",
         "type": "string"
        },
        {
         "name": "State Code",
         "rawType": "int64",
         "type": "integer"
        },
        {
         "name": "County Code",
         "rawType": "int64",
         "type": "integer"
        },
        {
         "name": "Date",
         "rawType": "object",
         "type": "string"
        },
        {
         "name": "AQI",
         "rawType": "int64",
         "type": "integer"
        },
        {
         "name": "Category",
         "rawType": "object",
         "type": "string"
        },
        {
         "name": "Defining Parameter",
         "rawType": "object",
         "type": "string"
        },
        {
         "name": "Defining Site",
         "rawType": "object",
         "type": "string"
        },
        {
         "name": "Number of Sites Reporting",
         "rawType": "int64",
         "type": "integer"
        }
       ],
       "ref": "cc693dc8-a0e8-4bd3-a640-1fc5dafcf528",
       "rows": [
        [
         "0",
         "Alabama",
         "Baldwin",
         "1",
         "3",
         "2017-01-01",
         "28",
         "Good",
         "PM2.5",
         "01-003-0010",
         "1"
        ],
        [
         "1",
         "Alabama",
         "Baldwin",
         "1",
         "3",
         "2017-01-04",
         "29",
         "Good",
         "PM2.5",
         "01-003-0010",
         "1"
        ],
        [
         "2",
         "Alabama",
         "Baldwin",
         "1",
         "3",
         "2017-01-10",
         "25",
         "Good",
         "PM2.5",
         "01-003-0010",
         "1"
        ],
        [
         "3",
         "Alabama",
         "Baldwin",
         "1",
         "3",
         "2017-01-13",
         "40",
         "Good",
         "PM2.5",
         "01-003-0010",
         "1"
        ],
        [
         "4",
         "Alabama",
         "Baldwin",
         "1",
         "3",
         "2017-01-16",
         "22",
         "Good",
         "PM2.5",
         "01-003-0010",
         "1"
        ],
        [
         "5",
         "Alabama",
         "Baldwin",
         "1",
         "3",
         "2017-01-19",
         "26",
         "Good",
         "PM2.5",
         "01-003-0010",
         "1"
        ],
        [
         "6",
         "Alabama",
         "Baldwin",
         "1",
         "3",
         "2017-01-22",
         "39",
         "Good",
         "PM2.5",
         "01-003-0010",
         "1"
        ],
        [
         "7",
         "Alabama",
         "Baldwin",
         "1",
         "3",
         "2017-01-25",
         "23",
         "Good",
         "PM2.5",
         "01-003-0010",
         "1"
        ],
        [
         "8",
         "Alabama",
         "Baldwin",
         "1",
         "3",
         "2017-01-28",
         "32",
         "Good",
         "PM2.5",
         "01-003-0010",
         "1"
        ],
        [
         "9",
         "Alabama",
         "Baldwin",
         "1",
         "3",
         "2017-01-31",
         "19",
         "Good",
         "PM2.5",
         "01-003-0010",
         "1"
        ],
        [
         "10",
         "Alabama",
         "Baldwin",
         "1",
         "3",
         "2017-02-03",
         "44",
         "Good",
         "PM2.5",
         "01-003-0010",
         "1"
        ],
        [
         "11",
         "Alabama",
         "Baldwin",
         "1",
         "3",
         "2017-02-06",
         "50",
         "Good",
         "PM2.5",
         "01-003-0010",
         "1"
        ],
        [
         "12",
         "Alabama",
         "Baldwin",
         "1",
         "3",
         "2017-02-09",
         "41",
         "Good",
         "PM2.5",
         "01-003-0010",
         "1"
        ],
        [
         "13",
         "Alabama",
         "Baldwin",
         "1",
         "3",
         "2017-02-12",
         "42",
         "Good",
         "PM2.5",
         "01-003-0010",
         "1"
        ],
        [
         "14",
         "Alabama",
         "Baldwin",
         "1",
         "3",
         "2017-02-15",
         "29",
         "Good",
         "PM2.5",
         "01-003-0010",
         "1"
        ],
        [
         "15",
         "Alabama",
         "Baldwin",
         "1",
         "3",
         "2017-02-18",
         "26",
         "Good",
         "PM2.5",
         "01-003-0010",
         "1"
        ],
        [
         "16",
         "Alabama",
         "Baldwin",
         "1",
         "3",
         "2017-02-24",
         "21",
         "Good",
         "PM2.5",
         "01-003-0010",
         "1"
        ],
        [
         "17",
         "Alabama",
         "Baldwin",
         "1",
         "3",
         "2017-02-27",
         "44",
         "Good",
         "PM2.5",
         "01-003-0010",
         "1"
        ],
        [
         "18",
         "Alabama",
         "Baldwin",
         "1",
         "3",
         "2017-03-01",
         "36",
         "Good",
         "Ozone",
         "01-003-0010",
         "1"
        ],
        [
         "19",
         "Alabama",
         "Baldwin",
         "1",
         "3",
         "2017-03-02",
         "42",
         "Good",
         "Ozone",
         "01-003-0010",
         "1"
        ],
        [
         "20",
         "Alabama",
         "Baldwin",
         "1",
         "3",
         "2017-03-03",
         "48",
         "Good",
         "Ozone",
         "01-003-0010",
         "1"
        ],
        [
         "21",
         "Alabama",
         "Baldwin",
         "1",
         "3",
         "2017-03-04",
         "49",
         "Good",
         "Ozone",
         "01-003-0010",
         "1"
        ],
        [
         "22",
         "Alabama",
         "Baldwin",
         "1",
         "3",
         "2017-03-05",
         "54",
         "Moderate",
         "PM2.5",
         "01-003-0010",
         "1"
        ],
        [
         "23",
         "Alabama",
         "Baldwin",
         "1",
         "3",
         "2017-03-06",
         "45",
         "Good",
         "Ozone",
         "01-003-0010",
         "1"
        ],
        [
         "24",
         "Alabama",
         "Baldwin",
         "1",
         "3",
         "2017-03-07",
         "47",
         "Good",
         "Ozone",
         "01-003-0010",
         "1"
        ],
        [
         "25",
         "Alabama",
         "Baldwin",
         "1",
         "3",
         "2017-03-08",
         "44",
         "Good",
         "Ozone",
         "01-003-0010",
         "1"
        ],
        [
         "26",
         "Alabama",
         "Baldwin",
         "1",
         "3",
         "2017-03-09",
         "44",
         "Good",
         "Ozone",
         "01-003-0010",
         "1"
        ],
        [
         "27",
         "Alabama",
         "Baldwin",
         "1",
         "3",
         "2017-03-10",
         "45",
         "Good",
         "Ozone",
         "01-003-0010",
         "1"
        ],
        [
         "28",
         "Alabama",
         "Baldwin",
         "1",
         "3",
         "2017-03-11",
         "51",
         "Moderate",
         "PM2.5",
         "01-003-0010",
         "1"
        ],
        [
         "29",
         "Alabama",
         "Baldwin",
         "1",
         "3",
         "2017-03-12",
         "32",
         "Good",
         "Ozone",
         "01-003-0010",
         "1"
        ],
        [
         "30",
         "Alabama",
         "Baldwin",
         "1",
         "3",
         "2017-03-13",
         "31",
         "Good",
         "Ozone",
         "01-003-0010",
         "1"
        ],
        [
         "31",
         "Alabama",
         "Baldwin",
         "1",
         "3",
         "2017-03-14",
         "32",
         "Good",
         "PM2.5",
         "01-003-0010",
         "1"
        ],
        [
         "32",
         "Alabama",
         "Baldwin",
         "1",
         "3",
         "2017-03-15",
         "44",
         "Good",
         "Ozone",
         "01-003-0010",
         "1"
        ],
        [
         "33",
         "Alabama",
         "Baldwin",
         "1",
         "3",
         "2017-03-17",
         "44",
         "Good",
         "PM2.5",
         "01-003-0010",
         "1"
        ],
        [
         "34",
         "Alabama",
         "Baldwin",
         "1",
         "3",
         "2017-03-18",
         "49",
         "Good",
         "Ozone",
         "01-003-0010",
         "1"
        ],
        [
         "35",
         "Alabama",
         "Baldwin",
         "1",
         "3",
         "2017-03-19",
         "51",
         "Moderate",
         "Ozone",
         "01-003-0010",
         "1"
        ],
        [
         "36",
         "Alabama",
         "Baldwin",
         "1",
         "3",
         "2017-03-20",
         "56",
         "Moderate",
         "PM2.5",
         "01-003-0010",
         "1"
        ],
        [
         "37",
         "Alabama",
         "Baldwin",
         "1",
         "3",
         "2017-03-21",
         "46",
         "Good",
         "Ozone",
         "01-003-0010",
         "1"
        ],
        [
         "38",
         "Alabama",
         "Baldwin",
         "1",
         "3",
         "2017-03-22",
         "47",
         "Good",
         "Ozone",
         "01-003-0010",
         "1"
        ],
        [
         "39",
         "Alabama",
         "Baldwin",
         "1",
         "3",
         "2017-03-23",
         "63",
         "Moderate",
         "PM2.5",
         "01-003-0010",
         "1"
        ],
        [
         "40",
         "Alabama",
         "Baldwin",
         "1",
         "3",
         "2017-03-24",
         "44",
         "Good",
         "Ozone",
         "01-003-0010",
         "1"
        ],
        [
         "41",
         "Alabama",
         "Baldwin",
         "1",
         "3",
         "2017-03-25",
         "43",
         "Good",
         "Ozone",
         "01-003-0010",
         "1"
        ],
        [
         "42",
         "Alabama",
         "Baldwin",
         "1",
         "3",
         "2017-03-26",
         "41",
         "Good",
         "Ozone",
         "01-003-0010",
         "1"
        ],
        [
         "43",
         "Alabama",
         "Baldwin",
         "1",
         "3",
         "2017-03-27",
         "35",
         "Good",
         "Ozone",
         "01-003-0010",
         "1"
        ],
        [
         "44",
         "Alabama",
         "Baldwin",
         "1",
         "3",
         "2017-03-28",
         "33",
         "Good",
         "Ozone",
         "01-003-0010",
         "1"
        ],
        [
         "45",
         "Alabama",
         "Baldwin",
         "1",
         "3",
         "2017-03-29",
         "34",
         "Good",
         "Ozone",
         "01-003-0010",
         "1"
        ],
        [
         "46",
         "Alabama",
         "Baldwin",
         "1",
         "3",
         "2017-03-30",
         "36",
         "Good",
         "Ozone",
         "01-003-0010",
         "1"
        ],
        [
         "47",
         "Alabama",
         "Baldwin",
         "1",
         "3",
         "2017-03-31",
         "58",
         "Moderate",
         "Ozone",
         "01-003-0010",
         "1"
        ],
        [
         "48",
         "Alabama",
         "Baldwin",
         "1",
         "3",
         "2017-04-01",
         "51",
         "Moderate",
         "Ozone",
         "01-003-0010",
         "1"
        ],
        [
         "49",
         "Alabama",
         "Baldwin",
         "1",
         "3",
         "2017-04-02",
         "40",
         "Good",
         "Ozone",
         "01-003-0010",
         "1"
        ]
       ],
       "shape": {
        "columns": 10,
        "rows": 654342
       }
      },
      "text/html": [
       "<div>\n",
       "<style scoped>\n",
       "    .dataframe tbody tr th:only-of-type {\n",
       "        vertical-align: middle;\n",
       "    }\n",
       "\n",
       "    .dataframe tbody tr th {\n",
       "        vertical-align: top;\n",
       "    }\n",
       "\n",
       "    .dataframe thead th {\n",
       "        text-align: right;\n",
       "    }\n",
       "</style>\n",
       "<table border=\"1\" class=\"dataframe\">\n",
       "  <thead>\n",
       "    <tr style=\"text-align: right;\">\n",
       "      <th></th>\n",
       "      <th>State Name</th>\n",
       "      <th>county Name</th>\n",
       "      <th>State Code</th>\n",
       "      <th>County Code</th>\n",
       "      <th>Date</th>\n",
       "      <th>AQI</th>\n",
       "      <th>Category</th>\n",
       "      <th>Defining Parameter</th>\n",
       "      <th>Defining Site</th>\n",
       "      <th>Number of Sites Reporting</th>\n",
       "    </tr>\n",
       "  </thead>\n",
       "  <tbody>\n",
       "    <tr>\n",
       "      <th>0</th>\n",
       "      <td>Alabama</td>\n",
       "      <td>Baldwin</td>\n",
       "      <td>1</td>\n",
       "      <td>3</td>\n",
       "      <td>2017-01-01</td>\n",
       "      <td>28</td>\n",
       "      <td>Good</td>\n",
       "      <td>PM2.5</td>\n",
       "      <td>01-003-0010</td>\n",
       "      <td>1</td>\n",
       "    </tr>\n",
       "    <tr>\n",
       "      <th>1</th>\n",
       "      <td>Alabama</td>\n",
       "      <td>Baldwin</td>\n",
       "      <td>1</td>\n",
       "      <td>3</td>\n",
       "      <td>2017-01-04</td>\n",
       "      <td>29</td>\n",
       "      <td>Good</td>\n",
       "      <td>PM2.5</td>\n",
       "      <td>01-003-0010</td>\n",
       "      <td>1</td>\n",
       "    </tr>\n",
       "    <tr>\n",
       "      <th>2</th>\n",
       "      <td>Alabama</td>\n",
       "      <td>Baldwin</td>\n",
       "      <td>1</td>\n",
       "      <td>3</td>\n",
       "      <td>2017-01-10</td>\n",
       "      <td>25</td>\n",
       "      <td>Good</td>\n",
       "      <td>PM2.5</td>\n",
       "      <td>01-003-0010</td>\n",
       "      <td>1</td>\n",
       "    </tr>\n",
       "    <tr>\n",
       "      <th>3</th>\n",
       "      <td>Alabama</td>\n",
       "      <td>Baldwin</td>\n",
       "      <td>1</td>\n",
       "      <td>3</td>\n",
       "      <td>2017-01-13</td>\n",
       "      <td>40</td>\n",
       "      <td>Good</td>\n",
       "      <td>PM2.5</td>\n",
       "      <td>01-003-0010</td>\n",
       "      <td>1</td>\n",
       "    </tr>\n",
       "    <tr>\n",
       "      <th>4</th>\n",
       "      <td>Alabama</td>\n",
       "      <td>Baldwin</td>\n",
       "      <td>1</td>\n",
       "      <td>3</td>\n",
       "      <td>2017-01-16</td>\n",
       "      <td>22</td>\n",
       "      <td>Good</td>\n",
       "      <td>PM2.5</td>\n",
       "      <td>01-003-0010</td>\n",
       "      <td>1</td>\n",
       "    </tr>\n",
       "    <tr>\n",
       "      <th>...</th>\n",
       "      <td>...</td>\n",
       "      <td>...</td>\n",
       "      <td>...</td>\n",
       "      <td>...</td>\n",
       "      <td>...</td>\n",
       "      <td>...</td>\n",
       "      <td>...</td>\n",
       "      <td>...</td>\n",
       "      <td>...</td>\n",
       "      <td>...</td>\n",
       "    </tr>\n",
       "    <tr>\n",
       "      <th>327536</th>\n",
       "      <td>Wyoming</td>\n",
       "      <td>Weston</td>\n",
       "      <td>56</td>\n",
       "      <td>45</td>\n",
       "      <td>2018-12-27</td>\n",
       "      <td>36</td>\n",
       "      <td>Good</td>\n",
       "      <td>Ozone</td>\n",
       "      <td>56-045-0003</td>\n",
       "      <td>1</td>\n",
       "    </tr>\n",
       "    <tr>\n",
       "      <th>327537</th>\n",
       "      <td>Wyoming</td>\n",
       "      <td>Weston</td>\n",
       "      <td>56</td>\n",
       "      <td>45</td>\n",
       "      <td>2018-12-28</td>\n",
       "      <td>35</td>\n",
       "      <td>Good</td>\n",
       "      <td>Ozone</td>\n",
       "      <td>56-045-0003</td>\n",
       "      <td>1</td>\n",
       "    </tr>\n",
       "    <tr>\n",
       "      <th>327538</th>\n",
       "      <td>Wyoming</td>\n",
       "      <td>Weston</td>\n",
       "      <td>56</td>\n",
       "      <td>45</td>\n",
       "      <td>2018-12-29</td>\n",
       "      <td>35</td>\n",
       "      <td>Good</td>\n",
       "      <td>Ozone</td>\n",
       "      <td>56-045-0003</td>\n",
       "      <td>1</td>\n",
       "    </tr>\n",
       "    <tr>\n",
       "      <th>327539</th>\n",
       "      <td>Wyoming</td>\n",
       "      <td>Weston</td>\n",
       "      <td>56</td>\n",
       "      <td>45</td>\n",
       "      <td>2018-12-30</td>\n",
       "      <td>31</td>\n",
       "      <td>Good</td>\n",
       "      <td>Ozone</td>\n",
       "      <td>56-045-0003</td>\n",
       "      <td>1</td>\n",
       "    </tr>\n",
       "    <tr>\n",
       "      <th>327540</th>\n",
       "      <td>Wyoming</td>\n",
       "      <td>Weston</td>\n",
       "      <td>56</td>\n",
       "      <td>45</td>\n",
       "      <td>2018-12-31</td>\n",
       "      <td>35</td>\n",
       "      <td>Good</td>\n",
       "      <td>Ozone</td>\n",
       "      <td>56-045-0003</td>\n",
       "      <td>1</td>\n",
       "    </tr>\n",
       "  </tbody>\n",
       "</table>\n",
       "<p>654342 rows × 10 columns</p>\n",
       "</div>"
      ],
      "text/plain": [
       "       State Name county Name  State Code  County Code        Date  AQI  \\\n",
       "0         Alabama     Baldwin           1            3  2017-01-01   28   \n",
       "1         Alabama     Baldwin           1            3  2017-01-04   29   \n",
       "2         Alabama     Baldwin           1            3  2017-01-10   25   \n",
       "3         Alabama     Baldwin           1            3  2017-01-13   40   \n",
       "4         Alabama     Baldwin           1            3  2017-01-16   22   \n",
       "...           ...         ...         ...          ...         ...  ...   \n",
       "327536    Wyoming      Weston          56           45  2018-12-27   36   \n",
       "327537    Wyoming      Weston          56           45  2018-12-28   35   \n",
       "327538    Wyoming      Weston          56           45  2018-12-29   35   \n",
       "327539    Wyoming      Weston          56           45  2018-12-30   31   \n",
       "327540    Wyoming      Weston          56           45  2018-12-31   35   \n",
       "\n",
       "       Category Defining Parameter Defining Site  Number of Sites Reporting  \n",
       "0          Good              PM2.5   01-003-0010                          1  \n",
       "1          Good              PM2.5   01-003-0010                          1  \n",
       "2          Good              PM2.5   01-003-0010                          1  \n",
       "3          Good              PM2.5   01-003-0010                          1  \n",
       "4          Good              PM2.5   01-003-0010                          1  \n",
       "...         ...                ...           ...                        ...  \n",
       "327536     Good              Ozone   56-045-0003                          1  \n",
       "327537     Good              Ozone   56-045-0003                          1  \n",
       "327538     Good              Ozone   56-045-0003                          1  \n",
       "327539     Good              Ozone   56-045-0003                          1  \n",
       "327540     Good              Ozone   56-045-0003                          1  \n",
       "\n",
       "[654342 rows x 10 columns]"
      ]
     },
     "execution_count": 8,
     "metadata": {},
     "output_type": "execute_result"
    }
   ],
   "source": [
    "aqi = pd.concat([aqi_17, aqi_18])\n",
    "aqi"
   ]
  },
  {
   "cell_type": "code",
   "execution_count": 9,
   "metadata": {
    "deletable": false,
    "editable": false
   },
   "outputs": [
    {
     "data": {
      "text/html": [
       "<p><strong><pre style='display: inline;'>q4</pre></strong> passed! ✨</p>"
      ],
      "text/plain": [
       "q4 results: All test cases passed!"
      ]
     },
     "execution_count": 9,
     "metadata": {},
     "output_type": "execute_result"
    }
   ],
   "source": [
    "grader.check(\"q4\")"
   ]
  },
  {
   "cell_type": "markdown",
   "metadata": {
    "deletable": false,
    "editable": false
   },
   "source": [
    "<!-- BEGIN QUESTION -->\n",
    "\n",
    "## 5\n",
    "\n",
    "Run the following code cell and use the next markdown cell to give a line by line explanation of the code below the comment \"#Simplify column names\". You might need to look up the `pandas` documentation."
   ]
  },
  {
   "cell_type": "code",
   "execution_count": 10,
   "metadata": {
    "deletable": false,
    "editable": false,
    "tags": []
   },
   "outputs": [
    {
     "name": "stdout",
     "output_type": "stream",
     "text": [
      "Index(['State Name', 'county Name', 'State Code', 'County Code', 'Date', 'AQI',\n",
      "       'Category', 'Defining Parameter', 'Defining Site',\n",
      "       'Number of Sites Reporting'],\n",
      "      dtype='object') \n",
      "\n",
      "Index(['state_name', 'county_name', 'state_code', 'county_code', 'date', 'aqi',\n",
      "       'category', 'defining_parameter', 'defining_site',\n",
      "       'number_of_sites_reporting'],\n",
      "      dtype='object') \n",
      "\n"
     ]
    }
   ],
   "source": [
    "# Initial column names: notice caps and spaces (difficult to work with!)\n",
    "print(aqi.columns, '\\n')\n",
    "\n",
    "# Simplify column names\n",
    "aqi.columns = (aqi.columns\n",
    "                  .str.lower()\n",
    "                  .str.replace(' ','_')\n",
    "                )\n",
    "print(aqi.columns, '\\n')"
   ]
  },
  {
   "cell_type": "markdown",
   "metadata": {},
   "source": [
    "- `.columns` references the column names in the `aqi` dataframe\n",
    "\n",
    "- `.str.lower()` changes the column names to lowercase\n",
    "\n",
    "- `.str.replace()` first arguement is 'what to replace', the second arguement is 'replace with'. So in this case, replace spaces with underscores"
   ]
  },
  {
   "cell_type": "markdown",
   "metadata": {
    "deletable": false,
    "editable": false
   },
   "source": [
    "<!-- END QUESTION -->\n",
    "\n",
    "## 6\n",
    "In the next code cell:\n",
    "\n",
    "a. Select only data from `Santa Barbara` county and store it in a new variable `aqi_sb`.\n",
    "\n",
    "b. Remove the `state_name`, `county_name`, `state_code` and `county_code` columns from `aqi_sb`.\n",
    "\n",
    "Your dataframe should have the following columns in this order: `date`, `aqi`, `category`, `defining_parameter`, `defining_site`, `number_of_sites_reporting`. "
   ]
  },
  {
   "cell_type": "code",
   "execution_count": 11,
   "metadata": {
    "tags": []
   },
   "outputs": [
    {
     "data": {
      "application/vnd.microsoft.datawrangler.viewer.v0+json": {
       "columns": [
        {
         "name": "index",
         "rawType": "int64",
         "type": "integer"
        },
        {
         "name": "date",
         "rawType": "object",
         "type": "string"
        },
        {
         "name": "aqi",
         "rawType": "int64",
         "type": "integer"
        },
        {
         "name": "category",
         "rawType": "object",
         "type": "string"
        },
        {
         "name": "defining_parameter",
         "rawType": "object",
         "type": "string"
        },
        {
         "name": "defining_site",
         "rawType": "object",
         "type": "string"
        },
        {
         "name": "number_of_sites_reporting",
         "rawType": "int64",
         "type": "integer"
        }
       ],
       "ref": "3234a65f-9685-437e-a27b-8a0ace792edd",
       "rows": [
        [
         "28648",
         "2017-01-01",
         "39",
         "Good",
         "Ozone",
         "06-083-4003",
         "12"
        ],
        [
         "28649",
         "2017-01-02",
         "39",
         "Good",
         "PM2.5",
         "06-083-2011",
         "11"
        ],
        [
         "28650",
         "2017-01-03",
         "71",
         "Moderate",
         "PM10",
         "06-083-4003",
         "12"
        ],
        [
         "28651",
         "2017-01-04",
         "34",
         "Good",
         "Ozone",
         "06-083-4003",
         "13"
        ],
        [
         "28652",
         "2017-01-05",
         "37",
         "Good",
         "Ozone",
         "06-083-4003",
         "12"
        ],
        [
         "28653",
         "2017-01-06",
         "41",
         "Good",
         "PM2.5",
         "06-083-2011",
         "12"
        ],
        [
         "28654",
         "2017-01-07",
         "40",
         "Good",
         "Ozone",
         "06-083-4003",
         "13"
        ],
        [
         "28655",
         "2017-01-08",
         "264",
         "Very Unhealthy",
         "PM10",
         "06-083-4003",
         "12"
        ],
        [
         "28656",
         "2017-01-09",
         "35",
         "Good",
         "Ozone",
         "06-083-4003",
         "12"
        ],
        [
         "28657",
         "2017-01-10",
         "35",
         "Good",
         "Ozone",
         "06-083-1025",
         "13"
        ],
        [
         "28658",
         "2017-01-11",
         "44",
         "Good",
         "PM2.5",
         "06-083-1008",
         "12"
        ],
        [
         "28659",
         "2017-01-12",
         "40",
         "Good",
         "Ozone",
         "06-083-1025",
         "12"
        ],
        [
         "28660",
         "2017-01-13",
         "38",
         "Good",
         "Ozone",
         "06-083-1025",
         "12"
        ],
        [
         "28661",
         "2017-01-14",
         "37",
         "Good",
         "Ozone",
         "06-083-1025",
         "11"
        ],
        [
         "28662",
         "2017-01-15",
         "36",
         "Good",
         "Ozone",
         "06-083-1025",
         "11"
        ],
        [
         "28663",
         "2017-01-16",
         "38",
         "Good",
         "PM2.5",
         "06-083-2011",
         "12"
        ],
        [
         "28664",
         "2017-01-17",
         "42",
         "Good",
         "PM2.5",
         "06-083-2011",
         "12"
        ],
        [
         "28665",
         "2017-01-18",
         "46",
         "Good",
         "PM2.5",
         "06-083-2011",
         "12"
        ],
        [
         "28666",
         "2017-01-19",
         "40",
         "Good",
         "Ozone",
         "06-083-4003",
         "13"
        ],
        [
         "28667",
         "2017-01-20",
         "41",
         "Good",
         "Ozone",
         "06-083-1025",
         "12"
        ],
        [
         "28668",
         "2017-01-21",
         "45",
         "Good",
         "PM10",
         "06-083-4003",
         "12"
        ],
        [
         "28669",
         "2017-01-22",
         "41",
         "Good",
         "Ozone",
         "06-083-4003",
         "13"
        ],
        [
         "28670",
         "2017-01-23",
         "41",
         "Good",
         "Ozone",
         "06-083-4003",
         "12"
        ],
        [
         "28671",
         "2017-01-24",
         "39",
         "Good",
         "Ozone",
         "06-083-1025",
         "12"
        ],
        [
         "28672",
         "2017-01-25",
         "41",
         "Good",
         "Ozone",
         "06-083-1021",
         "12"
        ],
        [
         "28673",
         "2017-01-26",
         "42",
         "Good",
         "Ozone",
         "06-083-2011",
         "12"
        ],
        [
         "28674",
         "2017-01-27",
         "51",
         "Moderate",
         "PM2.5",
         "06-083-1008",
         "12"
        ],
        [
         "28675",
         "2017-01-28",
         "43",
         "Good",
         "Ozone",
         "06-083-1021",
         "13"
        ],
        [
         "28676",
         "2017-01-29",
         "44",
         "Good",
         "Ozone",
         "06-083-1021",
         "12"
        ],
        [
         "28677",
         "2017-01-30",
         "43",
         "Good",
         "Ozone",
         "06-083-1013",
         "11"
        ],
        [
         "28678",
         "2017-01-31",
         "46",
         "Good",
         "Ozone",
         "06-083-1013",
         "13"
        ],
        [
         "28679",
         "2017-02-01",
         "55",
         "Moderate",
         "PM2.5",
         "06-083-2011",
         "12"
        ],
        [
         "28680",
         "2017-02-02",
         "127",
         "Unhealthy for Sensitive Groups",
         "PM10",
         "06-083-4003",
         "12"
        ],
        [
         "28681",
         "2017-02-03",
         "32",
         "Good",
         "Ozone",
         "06-083-4003",
         "13"
        ],
        [
         "28682",
         "2017-02-04",
         "36",
         "Good",
         "Ozone",
         "06-083-4003",
         "12"
        ],
        [
         "28683",
         "2017-02-05",
         "36",
         "Good",
         "Ozone",
         "06-083-4003",
         "12"
        ],
        [
         "28684",
         "2017-02-06",
         "38",
         "Good",
         "Ozone",
         "06-083-1021",
         "13"
        ],
        [
         "28685",
         "2017-02-07",
         "27",
         "Good",
         "Ozone",
         "06-083-1025",
         "12"
        ],
        [
         "28686",
         "2017-02-08",
         "20",
         "Good",
         "Ozone",
         "06-083-2011",
         "12"
        ],
        [
         "28687",
         "2017-02-09",
         "31",
         "Good",
         "Ozone",
         "06-083-4003",
         "12"
        ],
        [
         "28688",
         "2017-02-10",
         "40",
         "Good",
         "Ozone",
         "06-083-4003",
         "12"
        ],
        [
         "28689",
         "2017-02-11",
         "39",
         "Good",
         "Ozone",
         "06-083-4003",
         "12"
        ],
        [
         "28690",
         "2017-02-12",
         "34",
         "Good",
         "Ozone",
         "06-083-1025",
         "13"
        ],
        [
         "28691",
         "2017-02-13",
         "33",
         "Good",
         "Ozone",
         "06-083-1025",
         "12"
        ],
        [
         "28692",
         "2017-02-14",
         "47",
         "Good",
         "PM2.5",
         "06-083-2011",
         "12"
        ],
        [
         "28693",
         "2017-02-15",
         "51",
         "Moderate",
         "PM2.5",
         "06-083-2011",
         "13"
        ],
        [
         "28694",
         "2017-02-16",
         "40",
         "Good",
         "Ozone",
         "06-083-4003",
         "12"
        ],
        [
         "28695",
         "2017-02-17",
         "47",
         "Good",
         "Ozone",
         "06-083-1021",
         "12"
        ],
        [
         "28696",
         "2017-02-18",
         "44",
         "Good",
         "Ozone",
         "06-083-1025",
         "13"
        ],
        [
         "28697",
         "2017-02-19",
         "41",
         "Good",
         "Ozone",
         "06-083-4003",
         "12"
        ]
       ],
       "shape": {
        "columns": 6,
        "rows": 730
       }
      },
      "text/html": [
       "<div>\n",
       "<style scoped>\n",
       "    .dataframe tbody tr th:only-of-type {\n",
       "        vertical-align: middle;\n",
       "    }\n",
       "\n",
       "    .dataframe tbody tr th {\n",
       "        vertical-align: top;\n",
       "    }\n",
       "\n",
       "    .dataframe thead th {\n",
       "        text-align: right;\n",
       "    }\n",
       "</style>\n",
       "<table border=\"1\" class=\"dataframe\">\n",
       "  <thead>\n",
       "    <tr style=\"text-align: right;\">\n",
       "      <th></th>\n",
       "      <th>date</th>\n",
       "      <th>aqi</th>\n",
       "      <th>category</th>\n",
       "      <th>defining_parameter</th>\n",
       "      <th>defining_site</th>\n",
       "      <th>number_of_sites_reporting</th>\n",
       "    </tr>\n",
       "  </thead>\n",
       "  <tbody>\n",
       "    <tr>\n",
       "      <th>28648</th>\n",
       "      <td>2017-01-01</td>\n",
       "      <td>39</td>\n",
       "      <td>Good</td>\n",
       "      <td>Ozone</td>\n",
       "      <td>06-083-4003</td>\n",
       "      <td>12</td>\n",
       "    </tr>\n",
       "    <tr>\n",
       "      <th>28649</th>\n",
       "      <td>2017-01-02</td>\n",
       "      <td>39</td>\n",
       "      <td>Good</td>\n",
       "      <td>PM2.5</td>\n",
       "      <td>06-083-2011</td>\n",
       "      <td>11</td>\n",
       "    </tr>\n",
       "    <tr>\n",
       "      <th>28650</th>\n",
       "      <td>2017-01-03</td>\n",
       "      <td>71</td>\n",
       "      <td>Moderate</td>\n",
       "      <td>PM10</td>\n",
       "      <td>06-083-4003</td>\n",
       "      <td>12</td>\n",
       "    </tr>\n",
       "    <tr>\n",
       "      <th>28651</th>\n",
       "      <td>2017-01-04</td>\n",
       "      <td>34</td>\n",
       "      <td>Good</td>\n",
       "      <td>Ozone</td>\n",
       "      <td>06-083-4003</td>\n",
       "      <td>13</td>\n",
       "    </tr>\n",
       "    <tr>\n",
       "      <th>28652</th>\n",
       "      <td>2017-01-05</td>\n",
       "      <td>37</td>\n",
       "      <td>Good</td>\n",
       "      <td>Ozone</td>\n",
       "      <td>06-083-4003</td>\n",
       "      <td>12</td>\n",
       "    </tr>\n",
       "    <tr>\n",
       "      <th>...</th>\n",
       "      <td>...</td>\n",
       "      <td>...</td>\n",
       "      <td>...</td>\n",
       "      <td>...</td>\n",
       "      <td>...</td>\n",
       "      <td>...</td>\n",
       "    </tr>\n",
       "    <tr>\n",
       "      <th>29128</th>\n",
       "      <td>2018-12-27</td>\n",
       "      <td>37</td>\n",
       "      <td>Good</td>\n",
       "      <td>Ozone</td>\n",
       "      <td>06-083-1025</td>\n",
       "      <td>11</td>\n",
       "    </tr>\n",
       "    <tr>\n",
       "      <th>29129</th>\n",
       "      <td>2018-12-28</td>\n",
       "      <td>39</td>\n",
       "      <td>Good</td>\n",
       "      <td>Ozone</td>\n",
       "      <td>06-083-1021</td>\n",
       "      <td>12</td>\n",
       "    </tr>\n",
       "    <tr>\n",
       "      <th>29130</th>\n",
       "      <td>2018-12-29</td>\n",
       "      <td>39</td>\n",
       "      <td>Good</td>\n",
       "      <td>Ozone</td>\n",
       "      <td>06-083-1021</td>\n",
       "      <td>12</td>\n",
       "    </tr>\n",
       "    <tr>\n",
       "      <th>29131</th>\n",
       "      <td>2018-12-30</td>\n",
       "      <td>41</td>\n",
       "      <td>Good</td>\n",
       "      <td>PM2.5</td>\n",
       "      <td>06-083-1008</td>\n",
       "      <td>12</td>\n",
       "    </tr>\n",
       "    <tr>\n",
       "      <th>29132</th>\n",
       "      <td>2018-12-31</td>\n",
       "      <td>38</td>\n",
       "      <td>Good</td>\n",
       "      <td>Ozone</td>\n",
       "      <td>06-083-2004</td>\n",
       "      <td>12</td>\n",
       "    </tr>\n",
       "  </tbody>\n",
       "</table>\n",
       "<p>730 rows × 6 columns</p>\n",
       "</div>"
      ],
      "text/plain": [
       "             date  aqi  category defining_parameter defining_site  \\\n",
       "28648  2017-01-01   39      Good              Ozone   06-083-4003   \n",
       "28649  2017-01-02   39      Good              PM2.5   06-083-2011   \n",
       "28650  2017-01-03   71  Moderate               PM10   06-083-4003   \n",
       "28651  2017-01-04   34      Good              Ozone   06-083-4003   \n",
       "28652  2017-01-05   37      Good              Ozone   06-083-4003   \n",
       "...           ...  ...       ...                ...           ...   \n",
       "29128  2018-12-27   37      Good              Ozone   06-083-1025   \n",
       "29129  2018-12-28   39      Good              Ozone   06-083-1021   \n",
       "29130  2018-12-29   39      Good              Ozone   06-083-1021   \n",
       "29131  2018-12-30   41      Good              PM2.5   06-083-1008   \n",
       "29132  2018-12-31   38      Good              Ozone   06-083-2004   \n",
       "\n",
       "       number_of_sites_reporting  \n",
       "28648                         12  \n",
       "28649                         11  \n",
       "28650                         12  \n",
       "28651                         13  \n",
       "28652                         12  \n",
       "...                          ...  \n",
       "29128                         11  \n",
       "29129                         12  \n",
       "29130                         12  \n",
       "29131                         12  \n",
       "29132                         12  \n",
       "\n",
       "[730 rows x 6 columns]"
      ]
     },
     "execution_count": 11,
     "metadata": {},
     "output_type": "execute_result"
    }
   ],
   "source": [
    "aqi_sb = aqi[aqi['county_name'] == \"Santa Barbara\"]\n",
    "aqi_sb = aqi_sb.drop(labels = ['state_name', 'county_name', 'state_code', 'county_code'], axis=1)\n",
    "aqi_sb"
   ]
  },
  {
   "cell_type": "code",
   "execution_count": 12,
   "metadata": {
    "deletable": false,
    "editable": false
   },
   "outputs": [
    {
     "data": {
      "text/html": [
       "<p><strong><pre style='display: inline;'>q6a</pre></strong> passed! 🙌</p>"
      ],
      "text/plain": [
       "q6a results: All test cases passed!"
      ]
     },
     "execution_count": 12,
     "metadata": {},
     "output_type": "execute_result"
    }
   ],
   "source": [
    "grader.check(\"q6a\")"
   ]
  },
  {
   "cell_type": "markdown",
   "metadata": {
    "deletable": false,
    "editable": false
   },
   "source": [
    " \n",
    "c. What is the data type of the `date` column? Write your answer in the markdown cell below. "
   ]
  },
  {
   "cell_type": "code",
   "execution_count": 13,
   "metadata": {},
   "outputs": [
    {
     "data": {
      "text/plain": [
       "dtype('O')"
      ]
     },
     "execution_count": 13,
     "metadata": {},
     "output_type": "execute_result"
    }
   ],
   "source": [
    "aqi_sb.date.dtype"
   ]
  },
  {
   "cell_type": "markdown",
   "metadata": {
    "deletable": false,
    "editable": false,
    "tags": []
   },
   "source": [
    "- The `date` column is type object, or string."
   ]
  },
  {
   "cell_type": "markdown",
   "metadata": {
    "deletable": false,
    "editable": false
   },
   "source": [
    "<!-- BEGIN QUESTION -->\n",
    "\n",
    "## 7\n",
    "In the following cell:\n",
    "1. Update the date column of `aqi_sb` to be a `pandas.datetime` object.\n",
    "2. Update the index of `aqi_sb` to be the `date` column."
   ]
  },
  {
   "cell_type": "code",
   "execution_count": 14,
   "metadata": {
    "editable": true,
    "slideshow": {
     "slide_type": ""
    },
    "tags": [
     "remove-cell"
    ]
   },
   "outputs": [
    {
     "data": {
      "text/plain": [
       "DatetimeIndex(['2017-01-01', '2017-01-02', '2017-01-03', '2017-01-04',\n",
       "               '2017-01-05', '2017-01-06', '2017-01-07', '2017-01-08',\n",
       "               '2017-01-09', '2017-01-10',\n",
       "               ...\n",
       "               '2018-12-22', '2018-12-23', '2018-12-24', '2018-12-25',\n",
       "               '2018-12-26', '2018-12-27', '2018-12-28', '2018-12-29',\n",
       "               '2018-12-30', '2018-12-31'],\n",
       "              dtype='datetime64[ns]', name='date', length=730, freq=None)"
      ]
     },
     "execution_count": 14,
     "metadata": {},
     "output_type": "execute_result"
    }
   ],
   "source": [
    "aqi_sb.date = pd.to_datetime(aqi_sb.date)\n",
    "aqi_sb = aqi_sb.set_index(keys='date')\n",
    "aqi_sb.index"
   ]
  },
  {
   "cell_type": "markdown",
   "metadata": {
    "deletable": false,
    "editable": false
   },
   "source": [
    "<!-- END QUESTION -->\n",
    "\n",
    "## 8\n",
    "In the next cell we will calculate an average over a [rolling window](https://pandas.pydata.org/pandas-docs/stable/reference/api/pandas.Series.rolling.html) using the `rolling()`method for `pandas.Series`:\n",
    "\n",
    "- `rolling()` is a lazy method, so we need to specify what we want to calculate over each window before it does something. \n",
    "- in this example we use the aggregator function `mean()` to calculate the average over each window\n",
    "- the parameter '5D' indicates we want the window for our rolling average to be 5 days. \n",
    "- we get a `pandas.Series` as ouput\n",
    "\n",
    "Store your answer in the `rolling_average` variable. You should have two columns in your series, `date` and the averages. "
   ]
  },
  {
   "cell_type": "code",
   "execution_count": 15,
   "metadata": {
    "tags": []
   },
   "outputs": [
    {
     "name": "stderr",
     "output_type": "stream",
     "text": [
      "/var/folders/th/h57j9xd51jz6jynj6ycrqdqm0000gn/T/ipykernel_45626/1909874144.py:2: FutureWarning: The 'axis' keyword in Series.rolling is deprecated and will be removed in a future version. Call the method without the axis keyword instead.\n",
      "  rolling_average = aqi_sb.aqi.rolling(window='5D', axis=0).mean() #type: ignore\n"
     ]
    },
    {
     "data": {
      "application/vnd.microsoft.datawrangler.viewer.v0+json": {
       "columns": [
        {
         "name": "date",
         "rawType": "datetime64[ns]",
         "type": "datetime"
        },
        {
         "name": "aqi",
         "rawType": "float64",
         "type": "float"
        }
       ],
       "ref": "64d442cc-59d9-489f-a637-956df8562720",
       "rows": [
        [
         "2017-01-01 00:00:00",
         "39.0"
        ],
        [
         "2017-01-02 00:00:00",
         "39.0"
        ],
        [
         "2017-01-03 00:00:00",
         "49.666666666666664"
        ],
        [
         "2017-01-04 00:00:00",
         "45.75"
        ],
        [
         "2017-01-05 00:00:00",
         "44.0"
        ],
        [
         "2017-01-06 00:00:00",
         "44.4"
        ],
        [
         "2017-01-07 00:00:00",
         "44.6"
        ],
        [
         "2017-01-08 00:00:00",
         "83.2"
        ],
        [
         "2017-01-09 00:00:00",
         "83.4"
        ],
        [
         "2017-01-10 00:00:00",
         "83.0"
        ],
        [
         "2017-01-11 00:00:00",
         "83.6"
        ],
        [
         "2017-01-12 00:00:00",
         "83.6"
        ],
        [
         "2017-01-13 00:00:00",
         "38.4"
        ],
        [
         "2017-01-14 00:00:00",
         "38.8"
        ],
        [
         "2017-01-15 00:00:00",
         "39.0"
        ],
        [
         "2017-01-16 00:00:00",
         "37.8"
        ],
        [
         "2017-01-17 00:00:00",
         "38.2"
        ],
        [
         "2017-01-18 00:00:00",
         "39.8"
        ],
        [
         "2017-01-19 00:00:00",
         "40.4"
        ],
        [
         "2017-01-20 00:00:00",
         "41.4"
        ],
        [
         "2017-01-21 00:00:00",
         "42.8"
        ],
        [
         "2017-01-22 00:00:00",
         "42.6"
        ],
        [
         "2017-01-23 00:00:00",
         "41.6"
        ],
        [
         "2017-01-24 00:00:00",
         "41.4"
        ],
        [
         "2017-01-25 00:00:00",
         "41.4"
        ],
        [
         "2017-01-26 00:00:00",
         "40.8"
        ],
        [
         "2017-01-27 00:00:00",
         "42.8"
        ],
        [
         "2017-01-28 00:00:00",
         "43.2"
        ],
        [
         "2017-01-29 00:00:00",
         "44.2"
        ],
        [
         "2017-01-30 00:00:00",
         "44.6"
        ],
        [
         "2017-01-31 00:00:00",
         "45.4"
        ],
        [
         "2017-02-01 00:00:00",
         "46.2"
        ],
        [
         "2017-02-02 00:00:00",
         "63.0"
        ],
        [
         "2017-02-03 00:00:00",
         "60.6"
        ],
        [
         "2017-02-04 00:00:00",
         "59.2"
        ],
        [
         "2017-02-05 00:00:00",
         "57.2"
        ],
        [
         "2017-02-06 00:00:00",
         "53.8"
        ],
        [
         "2017-02-07 00:00:00",
         "33.8"
        ],
        [
         "2017-02-08 00:00:00",
         "31.4"
        ],
        [
         "2017-02-09 00:00:00",
         "30.4"
        ],
        [
         "2017-02-10 00:00:00",
         "31.2"
        ],
        [
         "2017-02-11 00:00:00",
         "31.4"
        ],
        [
         "2017-02-12 00:00:00",
         "32.8"
        ],
        [
         "2017-02-13 00:00:00",
         "35.4"
        ],
        [
         "2017-02-14 00:00:00",
         "38.6"
        ],
        [
         "2017-02-15 00:00:00",
         "40.8"
        ],
        [
         "2017-02-16 00:00:00",
         "41.0"
        ],
        [
         "2017-02-17 00:00:00",
         "43.6"
        ],
        [
         "2017-02-18 00:00:00",
         "45.8"
        ],
        [
         "2017-02-19 00:00:00",
         "44.6"
        ]
       ],
       "shape": {
        "columns": 1,
        "rows": 730
       }
      },
      "text/plain": [
       "date\n",
       "2017-01-01    39.000000\n",
       "2017-01-02    39.000000\n",
       "2017-01-03    49.666667\n",
       "2017-01-04    45.750000\n",
       "2017-01-05    44.000000\n",
       "                ...    \n",
       "2018-12-27    41.200000\n",
       "2018-12-28    38.600000\n",
       "2018-12-29    38.200000\n",
       "2018-12-30    38.200000\n",
       "2018-12-31    38.800000\n",
       "Name: aqi, Length: 730, dtype: float64"
      ]
     },
     "execution_count": 15,
     "metadata": {},
     "output_type": "execute_result"
    }
   ],
   "source": [
    "# Calculate AQI rolling average over 5 days\n",
    "rolling_average = aqi_sb.aqi.rolling(window='5D', axis=0).mean() #type: ignore\n",
    "rolling_average"
   ]
  },
  {
   "cell_type": "code",
   "execution_count": 16,
   "metadata": {
    "deletable": false,
    "editable": false
   },
   "outputs": [
    {
     "data": {
      "text/html": [
       "<p><strong><pre style='display: inline;'>q8</pre></strong> passed! 💯</p>"
      ],
      "text/plain": [
       "q8 results: All test cases passed!"
      ]
     },
     "execution_count": 16,
     "metadata": {},
     "output_type": "execute_result"
    }
   ],
   "source": [
    "grader.check(\"q8\")"
   ]
  },
  {
   "cell_type": "markdown",
   "metadata": {
    "deletable": false,
    "editable": false
   },
   "source": [
    "## 9 \n",
    "\n",
    "Without creating any new variables, add the mean of the AQI over a 5-day rolling window as a new column named `five_day_average` to the `aqi_sb` dataframe. "
   ]
  },
  {
   "cell_type": "code",
   "execution_count": 17,
   "metadata": {
    "tags": []
   },
   "outputs": [],
   "source": [
    "aqi_sb['five_day_average'] = rolling_average"
   ]
  },
  {
   "cell_type": "code",
   "execution_count": 18,
   "metadata": {
    "deletable": false,
    "editable": false
   },
   "outputs": [
    {
     "data": {
      "text/html": [
       "<p><strong><pre style='display: inline;'>q9</pre></strong> passed! 🌈</p>"
      ],
      "text/plain": [
       "q9 results: All test cases passed!"
      ]
     },
     "execution_count": 18,
     "metadata": {},
     "output_type": "execute_result"
    }
   ],
   "source": [
    "grader.check(\"q9\")"
   ]
  },
  {
   "cell_type": "markdown",
   "metadata": {
    "deletable": false,
    "editable": false
   },
   "source": [
    "<!-- BEGIN QUESTION -->\n",
    "\n",
    "## 10\n",
    "Make a line plot showing both the daily AQI and the 5-day average (5-day average on top of the AQI). Make necessary updates for the plot to be accurate, informative, and polished, even if simple. You're welcome to use plotting methods and packages beyond what we have covered in class! \n",
    "\n",
    "Can you see the AQI going up during the Thomas Fire in December 2017?"
   ]
  },
  {
   "cell_type": "code",
   "execution_count": 57,
   "metadata": {},
   "outputs": [
    {
     "data": {
      "image/png": "[encoded data removed]",
      "text/plain": [
       "<Figure size 1200x500 with 1 Axes>"
      ]
     },
     "metadata": {},
     "output_type": "display_data"
    }
   ],
   "source": [
    "import matplotlib.pyplot as plt\n",
    "\n",
    "plt.figure(figsize=(12, 5))\n",
    "plt.plot(aqi_sb.index, aqi_sb.aqi, label='Daily AQI',\n",
    "         color='grey',\n",
    "         alpha=0.3)\n",
    "plt.plot(aqi_sb.index, aqi_sb.five_day_average, label='Five Day Average AQI',\n",
    "         color='#f61067')\n",
    "\n",
    "plt.axvline(x = pd.to_datetime('2017-12-04'), #type: ignore\n",
    "            alpha=0.8,\n",
    "            color='black',\n",
    "            linestyle='--') \n",
    "\n",
    "\n",
    "plt.xlabel('Date')\n",
    "plt.ylabel('Air Quality Index (AQI)')\n",
    "plt.text(x=pd.to_datetime('2017-12-04'), y=250, s='Thomas Fire Begins')\n",
    "plt.title('Santa Barbara Air Quality 2017-2019')\n",
    "plt.legend()\n",
    "plt.show()"
   ]
  },
  {
   "cell_type": "markdown",
   "metadata": {
    "tags": []
   },
   "source": [
    "---\n",
    "\n",
    "To double-check your work, the cell below will rerun all of the autograder tests."
   ]
  },
  {
   "cell_type": "code",
   "execution_count": null,
   "metadata": {},
   "outputs": [],
   "source": [
    "grader.check_all()"
   ]
  },
  {
   "cell_type": "markdown",
   "metadata": {
    "deletable": false,
    "editable": false,
    "tags": []
   },
   "source": [
    "<!-- END QUESTION -->\n",
    "\n",
    "## 11\n",
    "\n",
    "\n",
    "Collect all the relevant code into the first blank cell of the notebook titled \"COMPLETE WORKFLOW\". This single cell will have the end-to-end workflow: from importing libraries and loading the data, to producing the graph. The *only* ouput of this cell should be the graph you produced in the previous exercise. Further guidance on what to include in this final workflow is in the [assignment rubric](https://docs.google.com/document/d/1x0BoU6IH4cnOR1-n7i9CYQ9wUC37yDpYlQ4j6rCfcsU/edit?tab=t.0)."
   ]
  }
 ],
 "metadata": {
  "kernelspec": {
   "display_name": "env220-env",
   "language": "python",
   "name": "python3"
  },
  "language_info": {
   "codemirror_mode": {
    "name": "ipython",
    "version": 3
   },
   "file_extension": ".py",
   "mimetype": "text/x-python",
   "name": "python",
   "nbconvert_exporter": "python",
   "pygments_lexer": "ipython3",
   "version": "3.11.4"
  }
 },
 "nbformat": 4,
 "nbformat_minor": 4
}
